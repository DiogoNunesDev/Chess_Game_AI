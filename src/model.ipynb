{
 "cells": [
  {
   "cell_type": "code",
   "execution_count": 2,
   "metadata": {},
   "outputs": [],
   "source": [
    "import numpy as np\n",
    "import os\n",
    "import pandas as pd"
   ]
  },
  {
   "cell_type": "markdown",
   "metadata": {},
   "source": [
    "## Data Preprocessing"
   ]
  },
  {
   "cell_type": "code",
   "execution_count": 3,
   "metadata": {},
   "outputs": [],
   "source": [
    "def fen_to_array(fen_string):\n",
    "  # map for each piece\n",
    "  piece_to_int = {\n",
    "    'r': 1, 'n': 2, 'b': 3, 'q': 4, 'k': 5, 'p': 6,\n",
    "    'R': 7, 'N': 8, 'B': 9, 'Q': 10, 'K': 11, 'P': 12,\n",
    "    '.': 0  # empty square\n",
    "  }\n",
    "\n",
    "  # Split the FEN string at spaces - the first part represents the board, the rest is special notation\n",
    "  board_part = fen_string.split(' ')[0]\n",
    "\n",
    "  # Replacing numbers for their corresponding number of empty squares\n",
    "  for digit in '12345678':\n",
    "    board_part = board_part.replace(digit, '.' * int(digit))\n",
    "\n",
    "  # Replacing slashes with newlines to represent rows\n",
    "  board_part = board_part.replace('/', '\\n')\n",
    "\n",
    "  # Convert the string to an 8x8 matrix which represents the chess board \n",
    "  board = [list(row) for row in board_part.split('\\n')]\n",
    "\n",
    "  # Convert board to a 3D array (8x8x12) where each layer represents a different piece type\n",
    "  board_array = [[[0 for _ in range(12)] for _ in range(8)] for _ in range(8)]\n",
    "\n",
    "  for i, row in enumerate(board):\n",
    "    for j, piece in enumerate(row):\n",
    "      if piece != '.':\n",
    "        board_array[i][j][piece_to_int[piece] - 1] = 1\n",
    "\n",
    "  return board_array"
   ]
  },
  {
   "cell_type": "code",
   "execution_count": 23,
   "metadata": {},
   "outputs": [
    {
     "data": {
      "text/html": [
       "<div>\n",
       "<style scoped>\n",
       "    .dataframe tbody tr th:only-of-type {\n",
       "        vertical-align: middle;\n",
       "    }\n",
       "\n",
       "    .dataframe tbody tr th {\n",
       "        vertical-align: top;\n",
       "    }\n",
       "\n",
       "    .dataframe thead th {\n",
       "        text-align: right;\n",
       "    }\n",
       "</style>\n",
       "<table border=\"1\" class=\"dataframe\">\n",
       "  <thead>\n",
       "    <tr style=\"text-align: right;\">\n",
       "      <th></th>\n",
       "      <th>FEN</th>\n",
       "      <th>Evaluation</th>\n",
       "    </tr>\n",
       "  </thead>\n",
       "  <tbody>\n",
       "    <tr>\n",
       "      <th>0</th>\n",
       "      <td>rnbqkbnr/pppppppp/8/8/3P4/8/PPP1PPPP/RNBQKBNR ...</td>\n",
       "      <td>31</td>\n",
       "    </tr>\n",
       "    <tr>\n",
       "      <th>1</th>\n",
       "      <td>rnbqkb1r/pppppppp/5n2/8/3P4/8/PPP1PPPP/RNBQKBN...</td>\n",
       "      <td>33</td>\n",
       "    </tr>\n",
       "    <tr>\n",
       "      <th>2</th>\n",
       "      <td>rnbqkb1r/pppppppp/5n2/8/3P4/5N2/PPP1PPPP/RNBQK...</td>\n",
       "      <td>24</td>\n",
       "    </tr>\n",
       "    <tr>\n",
       "      <th>3</th>\n",
       "      <td>rnbqkb1r/ppp1pppp/5n2/3p4/3P4/5N2/PPP1PPPP/RNB...</td>\n",
       "      <td>21</td>\n",
       "    </tr>\n",
       "    <tr>\n",
       "      <th>4</th>\n",
       "      <td>rnbqkb1r/ppp1pppp/5n2/3p4/3P4/4PN2/PPP2PPP/RNB...</td>\n",
       "      <td>12</td>\n",
       "    </tr>\n",
       "    <tr>\n",
       "      <th>...</th>\n",
       "      <td>...</td>\n",
       "      <td>...</td>\n",
       "    </tr>\n",
       "    <tr>\n",
       "      <th>460696</th>\n",
       "      <td>4Q3/5p2/3P2k1/1p3bp1/7p/2q4P/2p2PP1/4R1K1 w - ...</td>\n",
       "      <td>0</td>\n",
       "    </tr>\n",
       "    <tr>\n",
       "      <th>460697</th>\n",
       "      <td>6Q1/5p2/3P2k1/1p3bp1/7p/2q4P/2p2PP1/4R1K1 b - ...</td>\n",
       "      <td>0</td>\n",
       "    </tr>\n",
       "    <tr>\n",
       "      <th>460698</th>\n",
       "      <td>6Q1/5p2/3P3k/1p3bp1/7p/2q4P/2p2PP1/4R1K1 w - -...</td>\n",
       "      <td>0</td>\n",
       "    </tr>\n",
       "    <tr>\n",
       "      <th>460699</th>\n",
       "      <td>5Q2/5p2/3P3k/1p3bp1/7p/2q4P/2p2PP1/4R1K1 b - -...</td>\n",
       "      <td>0</td>\n",
       "    </tr>\n",
       "    <tr>\n",
       "      <th>460700</th>\n",
       "      <td>5Q2/5p2/3P2k1/1p3bp1/7p/2q4P/2p2PP1/4R1K1 w - ...</td>\n",
       "      <td>0</td>\n",
       "    </tr>\n",
       "  </tbody>\n",
       "</table>\n",
       "<p>460701 rows × 2 columns</p>\n",
       "</div>"
      ],
      "text/plain": [
       "                                                      FEN  Evaluation\n",
       "0       rnbqkbnr/pppppppp/8/8/3P4/8/PPP1PPPP/RNBQKBNR ...          31\n",
       "1       rnbqkb1r/pppppppp/5n2/8/3P4/8/PPP1PPPP/RNBQKBN...          33\n",
       "2       rnbqkb1r/pppppppp/5n2/8/3P4/5N2/PPP1PPPP/RNBQK...          24\n",
       "3       rnbqkb1r/ppp1pppp/5n2/3p4/3P4/5N2/PPP1PPPP/RNB...          21\n",
       "4       rnbqkb1r/ppp1pppp/5n2/3p4/3P4/4PN2/PPP2PPP/RNB...          12\n",
       "...                                                   ...         ...\n",
       "460696  4Q3/5p2/3P2k1/1p3bp1/7p/2q4P/2p2PP1/4R1K1 w - ...           0\n",
       "460697  6Q1/5p2/3P2k1/1p3bp1/7p/2q4P/2p2PP1/4R1K1 b - ...           0\n",
       "460698  6Q1/5p2/3P3k/1p3bp1/7p/2q4P/2p2PP1/4R1K1 w - -...           0\n",
       "460699  5Q2/5p2/3P3k/1p3bp1/7p/2q4P/2p2PP1/4R1K1 b - -...           0\n",
       "460700  5Q2/5p2/3P2k1/1p3bp1/7p/2q4P/2p2PP1/4R1K1 w - ...           0\n",
       "\n",
       "[460701 rows x 2 columns]"
      ]
     },
     "execution_count": 23,
     "metadata": {},
     "output_type": "execute_result"
    }
   ],
   "source": [
    "data = pd.read_csv('../chess_evaluations.csv')\n",
    "data"
   ]
  },
  {
   "cell_type": "code",
   "execution_count": 24,
   "metadata": {},
   "outputs": [
    {
     "data": {
      "text/plain": [
       "0         [[[1, 0, 0, 0, 0, 0, 0, 0, 0, 0, 0, 0], [0, 1,...\n",
       "1         [[[1, 0, 0, 0, 0, 0, 0, 0, 0, 0, 0, 0], [0, 1,...\n",
       "2         [[[1, 0, 0, 0, 0, 0, 0, 0, 0, 0, 0, 0], [0, 1,...\n",
       "3         [[[1, 0, 0, 0, 0, 0, 0, 0, 0, 0, 0, 0], [0, 1,...\n",
       "4         [[[1, 0, 0, 0, 0, 0, 0, 0, 0, 0, 0, 0], [0, 1,...\n",
       "                                ...                        \n",
       "460696    [[[0, 0, 0, 0, 0, 0, 0, 0, 0, 0, 0, 0], [0, 0,...\n",
       "460697    [[[0, 0, 0, 0, 0, 0, 0, 0, 0, 0, 0, 0], [0, 0,...\n",
       "460698    [[[0, 0, 0, 0, 0, 0, 0, 0, 0, 0, 0, 0], [0, 0,...\n",
       "460699    [[[0, 0, 0, 0, 0, 0, 0, 0, 0, 0, 0, 0], [0, 0,...\n",
       "460700    [[[0, 0, 0, 0, 0, 0, 0, 0, 0, 0, 0, 0], [0, 0,...\n",
       "Name: FEN, Length: 460701, dtype: object"
      ]
     },
     "execution_count": 24,
     "metadata": {},
     "output_type": "execute_result"
    }
   ],
   "source": [
    "data['FEN'] = data['FEN'].apply(fen_to_array)\n",
    "data['FEN']"
   ]
  },
  {
   "cell_type": "code",
   "execution_count": 25,
   "metadata": {},
   "outputs": [
    {
     "data": {
      "text/html": [
       "<div>\n",
       "<style scoped>\n",
       "    .dataframe tbody tr th:only-of-type {\n",
       "        vertical-align: middle;\n",
       "    }\n",
       "\n",
       "    .dataframe tbody tr th {\n",
       "        vertical-align: top;\n",
       "    }\n",
       "\n",
       "    .dataframe thead th {\n",
       "        text-align: right;\n",
       "    }\n",
       "</style>\n",
       "<table border=\"1\" class=\"dataframe\">\n",
       "  <thead>\n",
       "    <tr style=\"text-align: right;\">\n",
       "      <th></th>\n",
       "      <th>FEN</th>\n",
       "      <th>Evaluation</th>\n",
       "    </tr>\n",
       "  </thead>\n",
       "  <tbody>\n",
       "    <tr>\n",
       "      <th>0</th>\n",
       "      <td>[[[1, 0, 0, 0, 0, 0, 0, 0, 0, 0, 0, 0], [0, 1,...</td>\n",
       "      <td>31</td>\n",
       "    </tr>\n",
       "    <tr>\n",
       "      <th>1</th>\n",
       "      <td>[[[1, 0, 0, 0, 0, 0, 0, 0, 0, 0, 0, 0], [0, 1,...</td>\n",
       "      <td>33</td>\n",
       "    </tr>\n",
       "    <tr>\n",
       "      <th>2</th>\n",
       "      <td>[[[1, 0, 0, 0, 0, 0, 0, 0, 0, 0, 0, 0], [0, 1,...</td>\n",
       "      <td>24</td>\n",
       "    </tr>\n",
       "    <tr>\n",
       "      <th>3</th>\n",
       "      <td>[[[1, 0, 0, 0, 0, 0, 0, 0, 0, 0, 0, 0], [0, 1,...</td>\n",
       "      <td>21</td>\n",
       "    </tr>\n",
       "    <tr>\n",
       "      <th>4</th>\n",
       "      <td>[[[1, 0, 0, 0, 0, 0, 0, 0, 0, 0, 0, 0], [0, 1,...</td>\n",
       "      <td>12</td>\n",
       "    </tr>\n",
       "  </tbody>\n",
       "</table>\n",
       "</div>"
      ],
      "text/plain": [
       "                                                 FEN  Evaluation\n",
       "0  [[[1, 0, 0, 0, 0, 0, 0, 0, 0, 0, 0, 0], [0, 1,...          31\n",
       "1  [[[1, 0, 0, 0, 0, 0, 0, 0, 0, 0, 0, 0], [0, 1,...          33\n",
       "2  [[[1, 0, 0, 0, 0, 0, 0, 0, 0, 0, 0, 0], [0, 1,...          24\n",
       "3  [[[1, 0, 0, 0, 0, 0, 0, 0, 0, 0, 0, 0], [0, 1,...          21\n",
       "4  [[[1, 0, 0, 0, 0, 0, 0, 0, 0, 0, 0, 0], [0, 1,...          12"
      ]
     },
     "execution_count": 25,
     "metadata": {},
     "output_type": "execute_result"
    }
   ],
   "source": [
    "data.head()"
   ]
  },
  {
   "cell_type": "markdown",
   "metadata": {},
   "source": [
    "## ResNet Implementation "
   ]
  },
  {
   "cell_type": "code",
   "execution_count": 3,
   "metadata": {},
   "outputs": [],
   "source": [
    "import tensorflow as tf\n",
    "from functools import partial"
   ]
  },
  {
   "cell_type": "code",
   "execution_count": 5,
   "metadata": {},
   "outputs": [],
   "source": [
    "DefaultConv2D = partial(tf.keras.layers.Conv3D, kernel_size=(3, 3), strides=1, padding=\"same\", kernel_initializer=\"he_normal\", use_bias=False)\n",
    "\n",
    "class ResidualUnit(tf.keras.layers.Layer):\n",
    "  def __init__(self, filters, strides=1, activation=\"relu\", **kwargs):\n",
    "    super.__init__(**kwargs)\n",
    "    self.activation = tf.keras.activations.get(activation)\n",
    "    self.main_layers = [\n",
    "      DefaultConv2D(filters=filters, strides=strides),\n",
    "      tf.keras.layers.BatchNormalization(),\n",
    "      self.activation,\n",
    "      DefaultConv2D(filters=filters),\n",
    "      tf.keras.layers.BatchNormalization()\n",
    "    ]\n",
    "    self.skip_layers = []\n",
    "    if strides > 1:\n",
    "      self.skip_layers = [\n",
    "        DefaultConv2D(filters=filter, kernel_size=1, strides=strides),\n",
    "        tf.keras.layers.BatchNormalization()\n",
    "      ]\n",
    "      \n",
    "  def call(self, inputs):\n",
    "    Z = inputs\n",
    "    for layer in self.main_layers:\n",
    "      Z = layer(Z)\n",
    "    skip_Z = inputs\n",
    "    for layer in self.skip_layers:\n",
    "      skip_Z = layer(skip_Z)\n",
    "    return self.activation(Z + skip_Z)\n",
    "  "
   ]
  },
  {
   "cell_type": "code",
   "execution_count": null,
   "metadata": {},
   "outputs": [],
   "source": [
    "model = tf.keras.Sequential([\n",
    "  DefaultConv2D(64, kernel_size=7, strides=2, input_shape=[8, 8, 12]),\n",
    "  tf.keras.layers.BatchNormalization(),\n",
    "  tf.keras.layers.Activation(\"relu\"),\n",
    "  tf.keras.layers.MaxPool3D(pool_size=3, strides=2, padding=\"same\"),\n",
    "])\n",
    "prev_filters=64\n",
    "for filters in [64] * 3 + [128] * 4 + [256] * 6 + [512] * 3:\n",
    "  strides = 1 if filters == prev_filters else 2\n",
    "  model.add(ResidualUnit(filters, strides=strides))\n",
    "  prev_filters = filters\n",
    "\n",
    "model.add(tf.keras.layers.GlobalAveragePooling3D())\n",
    "model.add(tf.keras.layers.Flatten())\n",
    "model.add(tf.keras.layers.Dense(10, activation=\"softmax\"))\n"
   ]
  }
 ],
 "metadata": {
  "kernelspec": {
   "display_name": "Python 3",
   "language": "python",
   "name": "python3"
  },
  "language_info": {
   "codemirror_mode": {
    "name": "ipython",
    "version": 3
   },
   "file_extension": ".py",
   "mimetype": "text/x-python",
   "name": "python",
   "nbconvert_exporter": "python",
   "pygments_lexer": "ipython3",
   "version": "3.9.9"
  }
 },
 "nbformat": 4,
 "nbformat_minor": 2
}
