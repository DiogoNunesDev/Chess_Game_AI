{
 "cells": [
  {
   "cell_type": "code",
   "execution_count": 9,
   "metadata": {},
   "outputs": [],
   "source": [
    "import os\n",
    "import tensorflow as tf\n",
    "import pandas as pd\n",
    "import numpy as np\n",
    "import matplotlib.pyplot as plt\n",
    "import chess\n"
   ]
  },
  {
   "cell_type": "markdown",
   "metadata": {},
   "source": [
    "## Game extraction\n",
    "\n",
    "# Here is where the games from every file are extracted\n",
    "\n",
    "STEPS:\n",
    "* Read dataset folder\n",
    "* Append every game to a single list"
   ]
  },
  {
   "cell_type": "code",
   "execution_count": 10,
   "metadata": {},
   "outputs": [],
   "source": [
    "directory_path = 'C:/Users/diogo/OneDrive/Ambiente de Trabalho/Datasets/chess'\n",
    "\n",
    "def getGames(directory_path=directory_path):\n",
    "  games = []\n",
    "  for filename in os.listdir(directory_path):\n",
    "      if filename.endswith('.pgn'):\n",
    "          pgn_path = os.path.join(directory_path, filename)\n",
    "          with open(pgn_path) as pgn_file:\n",
    "            while True:\n",
    "              game = chess.pgn.read_game(pgn_file) #PGN is an easy way to save chess games. With python-chess dealing with PGNs is easier\n",
    "              if game is None:\n",
    "                break  #Exit if there are no more games in the file\n",
    "              games.append(game)\n",
    "\n",
    "  return games"
   ]
  },
  {
   "cell_type": "code",
   "execution_count": 11,
   "metadata": {},
   "outputs": [
    {
     "name": "stdout",
     "output_type": "stream",
     "text": [
      "[Event \"Troll Masters\"]\n",
      "[Site \"Gausdal NOR\"]\n",
      "[Date \"2001.01.06\"]\n",
      "[Round \"2\"]\n",
      "[White \"Carlsen,Magnus\"]\n",
      "[Black \"Brameld,A\"]\n",
      "[Result \"0-1\"]\n",
      "[WhiteElo \"\"]\n",
      "[BlackElo \"2095\"]\n",
      "[ECO \"B05\"]\n",
      "\n",
      "1. e4 Nf6 2. e5 Nd5 3. d4 d6 4. Nf3 Bg4 5. Bc4 e6 6. O-O Nb6 7. Be2 Be7 8. h3 Bh5 9. Bf4 Nc6 10. c3 O-O 11. Nbd2 d5 12. b4 a5 13. a3 Qd7 14. Qc2 Bg6 15. Bd3 Rfc8 16. Rfb1 Bf8 17. h4 Ne7 18. g3 Qa4 19. Ne1 Qxc2 20. Bxc2 Bxc2 21. Nxc2 Na4 22. Rb3 b6 23. Kf1 c5 24. bxc5 bxc5 25. dxc5 Rxc5 26. Nb1 Rac8 27. Be3 Rc4 28. Bd4 Nc6 29. Rb5 Nxd4 30. Nxd4 Nxc3 31. Nxc3 Rxd4 32. Ne2 Ra4 33. Ke1 Rxa3 34. Rab1 Bb4+ 35. Kf1 Rd3 0-1\n"
     ]
    }
   ],
   "source": [
    "games = getGames()\n",
    "print(games[1])"
   ]
  },
  {
   "cell_type": "markdown",
   "metadata": {},
   "source": [
    "## Game Lines and FEN\n",
    "\n",
    "# Here i extract the game line and FEN string of every board state after every move\n",
    "\n",
    "STEPS:\n",
    "* Get the game main line and save it\n",
    "* For every game, move by move, create a FEN string of the board state and save it "
   ]
  },
  {
   "cell_type": "code",
   "execution_count": 12,
   "metadata": {},
   "outputs": [],
   "source": [
    "def create_datasets(games):\n",
    "    dataset = []\n",
    "\n",
    "    for game in games:\n",
    "        board = game.board()\n",
    "\n",
    "        for move_str in game.mainline_moves():\n",
    "            # Parse the move using python-chess\n",
    "            move = chess.Move.from_uci(move_str.uci())\n",
    "            \n",
    "            dataset.append((board.fen(), move_str.uci()))\n",
    "            # Make the move on the board\n",
    "            board.push(move)\n",
    "\n",
    "    return dataset"
   ]
  },
  {
   "cell_type": "code",
   "execution_count": 13,
   "metadata": {},
   "outputs": [],
   "source": [
    "data = create_datasets(games)"
   ]
  },
  {
   "cell_type": "code",
   "execution_count": 15,
   "metadata": {},
   "outputs": [
    {
     "name": "stdout",
     "output_type": "stream",
     "text": [
      "[('rnbqkbnr/pppppppp/8/8/3P4/8/PPP1PPPP/RNBQKBNR b KQkq - 0 1', 'g8f6'), ('rnbqkb1r/pppppppp/5n2/8/3P4/5N2/PPP1PPPP/RNBQKB1R b KQkq - 2 2', 'd7d5'), ('rnbqkb1r/ppp1pppp/5n2/3p4/3P4/4PN2/PPP2PPP/RNBQKB1R b KQkq - 0 3', 'c8f5'), ('rn1qkb1r/ppp1pppp/5n2/3p1b2/2PP4/4PN2/PP3PPP/RNBQKB1R b KQkq - 0 4', 'c7c6'), ('rn1qkb1r/pp2pppp/2p2n2/3p1b2/2PP4/2N1PN2/PP3PPP/R1BQKB1R b KQkq - 1 5', 'e7e6')]\n"
     ]
    }
   ],
   "source": [
    "print(data[:5])"
   ]
  },
  {
   "cell_type": "markdown",
   "metadata": {},
   "source": [
    "## Data Preprocessing\n",
    "\n",
    "STEPS:\n",
    "\n",
    "* Create Numpy arrays for each dataset\n",
    "* For fen strings, convert them into 'board arrays' of integers\n",
    "* For moves convert them to a vector of integers indicating starter square and ending square "
   ]
  },
  {
   "cell_type": "code",
   "execution_count": 17,
   "metadata": {},
   "outputs": [
    {
     "data": {
      "text/plain": [
       "array([['rnbqkbnr/pppppppp/8/8/8/8/PPPPPPPP/RNBQKBNR w KQkq - 0 1',\n",
       "        'd2d4'],\n",
       "       ['rnbqkb1r/pppppppp/5n2/8/3P4/8/PPP1PPPP/RNBQKBNR w KQkq - 1 2',\n",
       "        'g1f3'],\n",
       "       ['rnbqkb1r/ppp1pppp/5n2/3p4/3P4/5N2/PPP1PPPP/RNBQKB1R w KQkq - 0 3',\n",
       "        'e2e3'],\n",
       "       ...,\n",
       "       ['6Q1/5pq1/3P2k1/1p3bp1/7p/7P/2p2PP1/4R1K1 w - - 2 42', 'g8e8'],\n",
       "       ['4Q3/5p2/3P2k1/1p3bp1/7p/2q4P/2p2PP1/4R1K1 w - - 4 43', 'e8g8'],\n",
       "       ['6Q1/5p2/3P3k/1p3bp1/7p/2q4P/2p2PP1/4R1K1 w - - 6 44', 'g8f8']],\n",
       "      dtype='<U76')"
      ]
     },
     "execution_count": 17,
     "metadata": {},
     "output_type": "execute_result"
    }
   ],
   "source": [
    "data_np = np.array(data)\n",
    "data"
   ]
  },
  {
   "cell_type": "code",
   "execution_count": 54,
   "metadata": {},
   "outputs": [
    {
     "name": "stdout",
     "output_type": "stream",
     "text": [
      "[[-2 -3 -4 -5 -6 -4 -3 -2]\n",
      " [-1 -1 -1 -1 -1 -1 -1 -1]\n",
      " [ 0  0  0  0  0  0  0  0]\n",
      " [ 0  0  0  0  0  0  0  0]\n",
      " [ 0  0  0  0  0  0  0  0]\n",
      " [ 0  0  0  0  0  0  0  0]\n",
      " [ 1  1  1  1  1  1  1  1]\n",
      " [ 2  3  4  5  6  4  3  2]]\n"
     ]
    }
   ],
   "source": [
    "def fenToMatrix(fen):\n",
    "  \n",
    "  #Black pieces are positive\n",
    "  #White pieces are negative\n",
    "  \n",
    "  piece_numberization = {\n",
    "    'p': 1, 'r': 2, 'n': 3, 'b': 4, 'q': 5, 'k': 6,\n",
    "    'P': -1, 'R': -2, 'N': -3, 'B': -4, 'Q': -5, 'K': -6,\n",
    "    '.': 0\n",
    "  }\n",
    "  \n",
    "  board = chess.Board(fen)\n",
    "  \n",
    "  fen_matrix = np.zeros((8, 8), dtype=int)\n",
    "  for i in range(64):\n",
    "    piece = board.piece_at(i)\n",
    "    symbol = piece.symbol() if piece else '.'\n",
    "    fen_matrix[i // 8, i % 8] = piece_numberization[symbol]\n",
    "\n",
    "  return fen_matrix\n",
    "\n",
    "print(fenToMatrix(data_np[0][0]))\n"
   ]
  },
  {
   "cell_type": "code",
   "execution_count": 55,
   "metadata": {},
   "outputs": [
    {
     "name": "stdout",
     "output_type": "stream",
     "text": [
      "[[-2 -3 -4 -5 -6 -4 -3 -2]\n",
      " [-1 -1 -1 -1 -1 -1 -1 -1]\n",
      " [ 0  0  0  0  0  0  0  0]\n",
      " [ 0  0  0  0  0  0  0  0]\n",
      " [ 0  0  0  0  0  0  0  0]\n",
      " [ 0  0  0  0  0  0  0  0]\n",
      " [ 1  1  1  1  1  1  1  1]\n",
      " [ 2  3  4  5  6  4  3  2]]\n"
     ]
    }
   ],
   "source": [
    "fen_matrices = np.array([fenToMatrix(fen) for fen, move in data_np])\n",
    "print(fen_matrices[0])"
   ]
  },
  {
   "cell_type": "code",
   "execution_count": 57,
   "metadata": {},
   "outputs": [],
   "source": [
    "def move_to_vector(move):\n",
    "  # First, we define two strings representing the ranks and files on a chessboard.\n",
    "  rows = ['1', '2', '3', '4', '5', '6', '7', '8']\n",
    "  colls = ['a', 'b', 'c', 'd', 'e', 'f', 'g', 'h']\n",
    "\n",
    "  #Now we map each rank to a number\n",
    "  square_to_num = {}\n",
    "  counter = 0\n",
    "  for col in colls:\n",
    "    for row in rows:\n",
    "      square_to_num[col + row] = counter\n",
    "      counter += 1\n",
    "\n",
    "  start_square = move[:2]  # First two characters of the move\n",
    "  end_square = move[2:4]  # Next two characters of the move\n",
    "  # Now we convert each square to its numeric representation.\n",
    "  start_vector = square_to_num[start_square]\n",
    "  end_vector = square_to_num[end_square]\n",
    "\n",
    "  # Finally, we return these numbers in a list.\n",
    "  return [start_vector, end_vector]\n",
    "\n"
   ]
  },
  {
   "cell_type": "code",
   "execution_count": 58,
   "metadata": {},
   "outputs": [
    {
     "name": "stdout",
     "output_type": "stream",
     "text": [
      "[25 27]\n"
     ]
    }
   ],
   "source": [
    "move_vector = np.array([move_to_vector(move) for fen, move in data_np])\n",
    "print(move_vector[0])"
   ]
  },
  {
   "cell_type": "code",
   "execution_count": null,
   "metadata": {},
   "outputs": [],
   "source": [
    "def getSequenceData(data, history_length=10):\n",
    "  num_samples = len(data_np)\n",
    "  board_history = np.zeros((num_samples, history_length, 8, 8), dtype=int)\n",
    "  move_history = np.zeros((num_samples, history_length, 2), dtype=int)\n",
    "  data_indicator = np.zeros((num_samples, history_length, 1), dtype=int)\n",
    "\n",
    "  for i in range(num_samples):\n",
    "    for j in range(history_length):\n",
    "      if i - j >= 0:\n",
    "        fen, move = data_np[i - j]\n",
    "        board_history[i, history_length - j - 1] = fenToMatrix(fen)\n",
    "        move_history[i, history_length - j - 1] = move_to_vector(move)\n",
    "        data_indicator[i, history_length - j - 1] = 1  # Mark as real data\n",
    "\n",
    "  return board_history, move_history, data_indicator\n",
    "  \n",
    "  \n"
   ]
  },
  {
   "cell_type": "code",
   "execution_count": 60,
   "metadata": {},
   "outputs": [],
   "source": [
    "fen_reshaped = fen_matrices.reshape((-1, 8, 8, 1))  # Added the channel dimension"
   ]
  },
  {
   "cell_type": "code",
   "execution_count": 61,
   "metadata": {},
   "outputs": [],
   "source": [
    "# Split data into training and testing sets\n",
    "from sklearn.model_selection import train_test_split\n",
    "\n",
    "X_train, X_test, y_train, y_test = train_test_split(fen_reshaped, move_vector, test_size=0.2)\n",
    "\n",
    "\n",
    "\n",
    "\n"
   ]
  },
  {
   "cell_type": "code",
   "execution_count": 62,
   "metadata": {},
   "outputs": [],
   "source": [
    "from tensorflow.keras.models import Model\n",
    "from tensorflow.keras.layers import Input, Dense, Conv2D, LSTM, Flatten, concatenate\n"
   ]
  }
 ],
 "metadata": {
  "kernelspec": {
   "display_name": "Python 3",
   "language": "python",
   "name": "python3"
  },
  "language_info": {
   "codemirror_mode": {
    "name": "ipython",
    "version": 3
   },
   "file_extension": ".py",
   "mimetype": "text/x-python",
   "name": "python",
   "nbconvert_exporter": "python",
   "pygments_lexer": "ipython3",
   "version": "3.9.9"
  }
 },
 "nbformat": 4,
 "nbformat_minor": 2
}
