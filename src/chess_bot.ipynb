{
 "cells": [
  {
   "cell_type": "code",
   "execution_count": 34,
   "metadata": {},
   "outputs": [],
   "source": [
    "import os\n",
    "import tensorflow as tf\n",
    "import pandas as pd\n",
    "import numpy as np\n",
    "import matplotlib.pyplot as plt\n",
    "import chess as chess\n"
   ]
  },
  {
   "cell_type": "markdown",
   "metadata": {},
   "source": [
    "## Game extraction\n",
    "\n",
    "# Here is where the games from every file are extracted\n",
    "\n",
    "STEPS:\n",
    "* Read dataset folder\n",
    "* Append every game to a single list"
   ]
  },
  {
   "cell_type": "code",
   "execution_count": 45,
   "metadata": {},
   "outputs": [],
   "source": [
    "directory_path = 'C:/Users/diogo/OneDrive/Ambiente de Trabalho/Datasets/chess'\n",
    "\n",
    "def getGames(directory_path=directory_path):\n",
    "  games = []\n",
    "  for filename in os.listdir(directory_path):\n",
    "      if filename.endswith('.pgn'):\n",
    "          pgn_path = os.path.join(directory_path, filename)\n",
    "          with open(pgn_path) as pgn_file:\n",
    "            while True:\n",
    "              game = chess.pgn.read_game(pgn_file) #PGN is an easy way to save chess games. With python-chess dealing with PGNs is easier\n",
    "              if game is None:\n",
    "                break  #Exit if there are no more games in the file\n",
    "              games.append(game)\n",
    "\n",
    "  return games"
   ]
  },
  {
   "cell_type": "code",
   "execution_count": 46,
   "metadata": {},
   "outputs": [
    {
     "name": "stdout",
     "output_type": "stream",
     "text": [
      "[Event \"Troll Masters\"]\n",
      "[Site \"Gausdal NOR\"]\n",
      "[Date \"2001.01.06\"]\n",
      "[Round \"2\"]\n",
      "[White \"Carlsen,Magnus\"]\n",
      "[Black \"Brameld,A\"]\n",
      "[Result \"0-1\"]\n",
      "[WhiteElo \"\"]\n",
      "[BlackElo \"2095\"]\n",
      "[ECO \"B05\"]\n",
      "\n",
      "1. e4 Nf6 2. e5 Nd5 3. d4 d6 4. Nf3 Bg4 5. Bc4 e6 6. O-O Nb6 7. Be2 Be7 8. h3 Bh5 9. Bf4 Nc6 10. c3 O-O 11. Nbd2 d5 12. b4 a5 13. a3 Qd7 14. Qc2 Bg6 15. Bd3 Rfc8 16. Rfb1 Bf8 17. h4 Ne7 18. g3 Qa4 19. Ne1 Qxc2 20. Bxc2 Bxc2 21. Nxc2 Na4 22. Rb3 b6 23. Kf1 c5 24. bxc5 bxc5 25. dxc5 Rxc5 26. Nb1 Rac8 27. Be3 Rc4 28. Bd4 Nc6 29. Rb5 Nxd4 30. Nxd4 Nxc3 31. Nxc3 Rxd4 32. Ne2 Ra4 33. Ke1 Rxa3 34. Rab1 Bb4+ 35. Kf1 Rd3 0-1\n"
     ]
    }
   ],
   "source": [
    "games = getGames()\n",
    "print(games[1])"
   ]
  },
  {
   "cell_type": "markdown",
   "metadata": {},
   "source": [
    "## Game Lines and FEN\n",
    "\n",
    "# Here i extract the game line and FEN string of every board state after every move\n",
    "\n",
    "STEPS:\n",
    "* Get the game main line and save it\n",
    "* For every game, move by move, create a FEN string of the board state and save it "
   ]
  },
  {
   "cell_type": "code",
   "execution_count": 79,
   "metadata": {},
   "outputs": [],
   "source": [
    "def create_datasets(games):\n",
    "    white_dataset = []\n",
    "    black_dataset = []\n",
    "\n",
    "    for game in games:\n",
    "        board = game.board()\n",
    "\n",
    "        for move_str in game.mainline_moves():\n",
    "            # Parse the move using python-chess\n",
    "            move = chess.Move.from_uci(move_str.uci())\n",
    "\n",
    "            # Check if it's White's move\n",
    "            if board.turn == chess.WHITE:\n",
    "                # Append the current board state and the move to the White dataset\n",
    "                white_dataset.append((board.fen(), move_str.uci()))\n",
    "            else:\n",
    "                # Append the current board state and the move to the Black dataset\n",
    "                black_dataset.append((board.fen(), move_str.uci()))\n",
    "\n",
    "            # Make the move on the board\n",
    "            board.push(move)\n",
    "\n",
    "    return white_dataset, black_dataset"
   ]
  },
  {
   "cell_type": "code",
   "execution_count": 80,
   "metadata": {},
   "outputs": [],
   "source": [
    "white_moves, black_moves = create_datasets(games)"
   ]
  },
  {
   "cell_type": "code",
   "execution_count": 82,
   "metadata": {},
   "outputs": [
    {
     "name": "stdout",
     "output_type": "stream",
     "text": [
      "[('rnbqkbnr/pppppppp/8/8/8/8/PPPPPPPP/RNBQKBNR w KQkq - 0 1', 'd2d4'), ('rnbqkb1r/pppppppp/5n2/8/3P4/8/PPP1PPPP/RNBQKBNR w KQkq - 1 2', 'g1f3'), ('rnbqkb1r/ppp1pppp/5n2/3p4/3P4/5N2/PPP1PPPP/RNBQKB1R w KQkq - 0 3', 'e2e3'), ('rn1qkb1r/ppp1pppp/5n2/3p1b2/3P4/4PN2/PPP2PPP/RNBQKB1R w KQkq - 1 4', 'c2c4'), ('rn1qkb1r/pp2pppp/2p2n2/3p1b2/2PP4/4PN2/PP3PPP/RNBQKB1R w KQkq - 0 5', 'b1c3')]\n"
     ]
    }
   ],
   "source": [
    "print(white_moves[:5])"
   ]
  },
  {
   "cell_type": "code",
   "execution_count": 84,
   "metadata": {},
   "outputs": [
    {
     "name": "stdout",
     "output_type": "stream",
     "text": [
      "[('rnbqkbnr/pppppppp/8/8/3P4/8/PPP1PPPP/RNBQKBNR b KQkq - 0 1', 'g8f6'), ('rnbqkb1r/pppppppp/5n2/8/3P4/5N2/PPP1PPPP/RNBQKB1R b KQkq - 2 2', 'd7d5'), ('rnbqkb1r/ppp1pppp/5n2/3p4/3P4/4PN2/PPP2PPP/RNBQKB1R b KQkq - 0 3', 'c8f5'), ('rn1qkb1r/ppp1pppp/5n2/3p1b2/2PP4/4PN2/PP3PPP/RNBQKB1R b KQkq - 0 4', 'c7c6'), ('rn1qkb1r/pp2pppp/2p2n2/3p1b2/2PP4/2N1PN2/PP3PPP/R1BQKB1R b KQkq - 1 5', 'e7e6')]\n"
     ]
    }
   ],
   "source": [
    "print(black_moves[:5])"
   ]
  },
  {
   "cell_type": "markdown",
   "metadata": {},
   "source": [
    "## Data Preprocessing\n",
    "\n",
    "STEPS:\n",
    "\n",
    "* \n",
    "* \n",
    "* "
   ]
  }
 ],
 "metadata": {
  "kernelspec": {
   "display_name": "Python 3",
   "language": "python",
   "name": "python3"
  },
  "language_info": {
   "codemirror_mode": {
    "name": "ipython",
    "version": 3
   },
   "file_extension": ".py",
   "mimetype": "text/x-python",
   "name": "python",
   "nbconvert_exporter": "python",
   "pygments_lexer": "ipython3",
   "version": "3.9.9"
  }
 },
 "nbformat": 4,
 "nbformat_minor": 2
}
